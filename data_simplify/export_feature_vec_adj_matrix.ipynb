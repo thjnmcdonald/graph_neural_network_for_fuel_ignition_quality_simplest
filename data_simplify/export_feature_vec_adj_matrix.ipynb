{
 "cells": [
  {
   "cell_type": "code",
   "execution_count": 2,
   "id": "d306ad14-eeb3-492c-a53b-74d8b2eacb08",
   "metadata": {},
   "outputs": [
    {
     "name": "stderr",
     "output_type": "stream",
     "text": [
      "/usr/local/anaconda3/envs/gnn-test-env/lib/python3.9/site-packages/tqdm/auto.py:22: TqdmWarning: IProgress not found. Please update jupyter and ipywidgets. See https://ipywidgets.readthedocs.io/en/stable/user_install.html\n",
      "  from .autonotebook import tqdm as notebook_tqdm\n"
     ]
    }
   ],
   "source": [
    "import pandas as pd\n",
    "import numpy as np\n",
    "import torch_geometric\n",
    "import torch\n",
    "from torch_geometric.utils import to_dense_adj\n",
    "from smiles_to_molecular_graphs.single_molecule_conversion import process"
   ]
  },
  {
   "cell_type": "code",
   "execution_count": 3,
   "id": "f5912ab6-ce3a-4096-8840-879392092288",
   "metadata": {},
   "outputs": [],
   "source": [
    "df = pd.read_csv('TB_joined_all_shuffled.csv', delimiter = ';')\n"
   ]
  },
  {
   "cell_type": "code",
   "execution_count": 4,
   "id": "98d6db9d-35bd-4f05-bdc7-f357a2b340d7",
   "metadata": {},
   "outputs": [
    {
     "name": "stdout",
     "output_type": "stream",
     "text": [
      "2 794 26 406 185 11 4 2\n"
     ]
    }
   ],
   "source": [
    "print(df['SMILES'].str.count('H').sum(),\n",
    "df['SMILES'].str.count('C').sum(),\n",
    "df['SMILES'].str.count('O').sum(),\n",
    "df['SMILES'].str.count('F').sum(),\n",
    "df['SMILES'].str.count('Cl').sum(),      \n",
    "df['SMILES'].str.count('Br').sum(),\n",
    "df['SMILES'].str.count('N').sum(),\n",
    "df['SMILES'].str.count('S').sum())\n",
    "\n"
   ]
  },
  {
   "cell_type": "code",
   "execution_count": 29,
   "id": "43791013-1411-4038-8886-388bfe3eb7e3",
   "metadata": {},
   "outputs": [
    {
     "name": "stdout",
     "output_type": "stream",
     "text": [
      "173\n",
      "192\n"
     ]
    },
    {
     "data": {
      "text/plain": [
       "12           FC(F)(Br)CBr\n",
       "13     FC(F)(Br)C(F)(F)Br\n",
       "43                FC(F)Br\n",
       "52            FC(F)(Br)Br\n",
       "97            FC(F)(Cl)Br\n",
       "138                BrCCBr\n",
       "168            FC(F)(F)Br\n",
       "Name: SMILES, dtype: object"
      ]
     },
     "execution_count": 29,
     "metadata": {},
     "output_type": "execute_result"
    }
   ],
   "source": [
    "print(len(df['SMILES']) - 2 - 11 - 4 -2)\n",
    "print(len(df['SMILES']))\n",
    "\n",
    "df['SMILES'][df['SMILES'].str.contains('Br')]"
   ]
  },
  {
   "cell_type": "code",
   "execution_count": 38,
   "id": "078f38aa-b2c6-4ae5-a3a1-06638e621673",
   "metadata": {},
   "outputs": [
    {
     "data": {
      "text/plain": [
       "Series([], Name: SMILES, dtype: object)"
      ]
     },
     "execution_count": 38,
     "metadata": {},
     "output_type": "execute_result"
    }
   ],
   "source": [
    "new_df = pd.DataFrame(df['SMILES'][~((df['SMILES'].str.contains('S')) | (df['SMILES'].str.contains('N')) | (df['SMILES'].str.contains('Br')) | (df['SMILES'].str.contains('H')))])\n",
    "new_df['SMILES'][new_df['SMILES'].str.contains('S')]\n"
   ]
  },
  {
   "cell_type": "code",
   "execution_count": 8,
   "id": "529696af-fd96-4bae-8625-96d42c719212",
   "metadata": {},
   "outputs": [
    {
     "name": "stdout",
     "output_type": "stream",
     "text": [
      "CCN\n"
     ]
    }
   ],
   "source": [
    "data = process('CCN')"
   ]
  },
  {
   "cell_type": "code",
   "execution_count": 17,
   "id": "4fb01de0-7223-463a-8395-a7689a0df590",
   "metadata": {},
   "outputs": [
    {
     "name": "stdout",
     "output_type": "stream",
     "text": [
      "tensor([[0, 1, 1, 2],\n",
      "        [1, 0, 2, 1]])\n"
     ]
    }
   ],
   "source": [
    "edge_index = data.edge_index\n",
    "adjacency_matrix = to_dense_adj(edge_index)\n",
    "print(edge_index)"
   ]
  },
  {
   "cell_type": "code",
   "execution_count": 18,
   "id": "d8d179ba-7f37-4786-bfd9-775a349876b6",
   "metadata": {},
   "outputs": [
    {
     "name": "stdout",
     "output_type": "stream",
     "text": [
      "tensor([[[0., 1., 0.],\n",
      "         [1., 0., 1.],\n",
      "         [0., 1., 0.]]])\n"
     ]
    }
   ],
   "source": [
    "print(adjacency_matrix)"
   ]
  },
  {
   "cell_type": "code",
   "execution_count": null,
   "id": "2b065c10-b4d2-4f3b-b6e4-c10977e475af",
   "metadata": {},
   "outputs": [],
   "source": []
  }
 ],
 "metadata": {
  "kernelspec": {
   "display_name": "Python 3 (ipykernel)",
   "language": "python",
   "name": "python3"
  },
  "language_info": {
   "codemirror_mode": {
    "name": "ipython",
    "version": 3
   },
   "file_extension": ".py",
   "mimetype": "text/x-python",
   "name": "python",
   "nbconvert_exporter": "python",
   "pygments_lexer": "ipython3",
   "version": "3.9.7"
  }
 },
 "nbformat": 4,
 "nbformat_minor": 5
}
