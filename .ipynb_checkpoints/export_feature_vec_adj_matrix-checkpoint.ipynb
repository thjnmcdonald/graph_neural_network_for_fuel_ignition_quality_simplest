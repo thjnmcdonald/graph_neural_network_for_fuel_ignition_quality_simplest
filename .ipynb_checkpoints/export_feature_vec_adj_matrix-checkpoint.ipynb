{
 "cells": [
  {
   "cell_type": "code",
   "execution_count": 42,
   "id": "d306ad14-eeb3-492c-a53b-74d8b2eacb08",
   "metadata": {},
   "outputs": [
    {
     "ename": "ImportError",
     "evalue": "cannot import name 'from_smiles' from 'torch_geometric.utils' (/usr/local/anaconda3/envs/gnn-test-env/lib/python3.9/site-packages/torch_geometric/utils/__init__.py)",
     "output_type": "error",
     "traceback": [
      "\u001b[0;31m---------------------------------------------------------------------------\u001b[0m",
      "\u001b[0;31mImportError\u001b[0m                               Traceback (most recent call last)",
      "Input \u001b[0;32mIn [42]\u001b[0m, in \u001b[0;36m<cell line: 5>\u001b[0;34m()\u001b[0m\n\u001b[1;32m      3\u001b[0m \u001b[38;5;28;01mimport\u001b[39;00m \u001b[38;5;21;01mtorch_geometric\u001b[39;00m\n\u001b[1;32m      4\u001b[0m \u001b[38;5;28;01mimport\u001b[39;00m \u001b[38;5;21;01mtorch\u001b[39;00m\n\u001b[0;32m----> 5\u001b[0m \u001b[38;5;28;01mfrom\u001b[39;00m \u001b[38;5;21;01mtorch_geometric\u001b[39;00m\u001b[38;5;21;01m.\u001b[39;00m\u001b[38;5;21;01mutils\u001b[39;00m \u001b[38;5;28;01mimport\u001b[39;00m from_smiles\n",
      "\u001b[0;31mImportError\u001b[0m: cannot import name 'from_smiles' from 'torch_geometric.utils' (/usr/local/anaconda3/envs/gnn-test-env/lib/python3.9/site-packages/torch_geometric/utils/__init__.py)"
     ]
    }
   ],
   "source": [
    "import pandas as pd\n",
    "import numpy as np\n",
    "import torch_geometric\n",
    "import torch\n",
    "from torch_geometric.utils import from_smiles\n"
   ]
  },
  {
   "cell_type": "code",
   "execution_count": 33,
   "id": "f5912ab6-ce3a-4096-8840-879392092288",
   "metadata": {},
   "outputs": [],
   "source": [
    "df = pd.read_csv('TB_joined_all_shuffled.csv', delimiter = ';')\n"
   ]
  },
  {
   "cell_type": "code",
   "execution_count": 34,
   "id": "98d6db9d-35bd-4f05-bdc7-f357a2b340d7",
   "metadata": {},
   "outputs": [
    {
     "name": "stdout",
     "output_type": "stream",
     "text": [
      "2 794 26 406 185 11 4 2\n"
     ]
    }
   ],
   "source": [
    "print(df['SMILES'].str.count('H').sum(),\n",
    "df['SMILES'].str.count('C').sum(),\n",
    "df['SMILES'].str.count('O').sum(),\n",
    "df['SMILES'].str.count('F').sum(),\n",
    "df['SMILES'].str.count('Cl').sum(),      \n",
    "df['SMILES'].str.count('Br').sum(),\n",
    "df['SMILES'].str.count('N').sum(),\n",
    "df['SMILES'].str.count('S').sum())"
   ]
  },
  {
   "cell_type": "code",
   "execution_count": 35,
   "id": "078f38aa-b2c6-4ae5-a3a1-06638e621673",
   "metadata": {},
   "outputs": [
    {
     "data": {
      "text/html": [
       "<div>\n",
       "<style scoped>\n",
       "    .dataframe tbody tr th:only-of-type {\n",
       "        vertical-align: middle;\n",
       "    }\n",
       "\n",
       "    .dataframe tbody tr th {\n",
       "        vertical-align: top;\n",
       "    }\n",
       "\n",
       "    .dataframe thead th {\n",
       "        text-align: right;\n",
       "    }\n",
       "</style>\n",
       "<table border=\"1\" class=\"dataframe\">\n",
       "  <thead>\n",
       "    <tr style=\"text-align: right;\">\n",
       "      <th></th>\n",
       "      <th>Compounds</th>\n",
       "      <th>SMILES</th>\n",
       "      <th>measured TBs</th>\n",
       "    </tr>\n",
       "  </thead>\n",
       "  <tbody>\n",
       "    <tr>\n",
       "      <th>60</th>\n",
       "      <td>Ethylamine</td>\n",
       "      <td>CCN</td>\n",
       "      <td>289.75</td>\n",
       "    </tr>\n",
       "    <tr>\n",
       "      <th>69</th>\n",
       "      <td>Methylamine</td>\n",
       "      <td>CN</td>\n",
       "      <td>266.45</td>\n",
       "    </tr>\n",
       "    <tr>\n",
       "      <th>149</th>\n",
       "      <td>N,N-Diethylformamide</td>\n",
       "      <td>CCN(CC)C=O</td>\n",
       "      <td>450.65</td>\n",
       "    </tr>\n",
       "    <tr>\n",
       "      <th>151</th>\n",
       "      <td>1-Butylamine</td>\n",
       "      <td>CCCCN</td>\n",
       "      <td>350.15</td>\n",
       "    </tr>\n",
       "  </tbody>\n",
       "</table>\n",
       "</div>"
      ],
      "text/plain": [
       "                Compounds      SMILES  measured TBs\n",
       "60             Ethylamine         CCN        289.75\n",
       "69            Methylamine          CN        266.45\n",
       "149  N,N-Diethylformamide  CCN(CC)C=O        450.65\n",
       "151          1-Butylamine       CCCCN        350.15"
      ]
     },
     "execution_count": 35,
     "metadata": {},
     "output_type": "execute_result"
    }
   ],
   "source": [
    "df[df['SMILES'].str.contains('S')]\n",
    "df[df['SMILES'].str.contains('H')]\n",
    "df[df['SMILES'].str.contains('N')]"
   ]
  },
  {
   "cell_type": "code",
   "execution_count": 38,
   "id": "529696af-fd96-4bae-8625-96d42c719212",
   "metadata": {},
   "outputs": [
    {
     "ename": "NameError",
     "evalue": "name 'from_smiles' is not defined",
     "output_type": "error",
     "traceback": [
      "\u001b[0;31m---------------------------------------------------------------------------\u001b[0m",
      "\u001b[0;31mNameError\u001b[0m                                 Traceback (most recent call last)",
      "Input \u001b[0;32mIn [38]\u001b[0m, in \u001b[0;36m<cell line: 1>\u001b[0;34m()\u001b[0m\n\u001b[0;32m----> 1\u001b[0m \u001b[43mfrom_smiles\u001b[49m(\u001b[38;5;124m'\u001b[39m\u001b[38;5;124mCCN\u001b[39m\u001b[38;5;124m'\u001b[39m)\n",
      "\u001b[0;31mNameError\u001b[0m: name 'from_smiles' is not defined"
     ]
    }
   ],
   "source": [
    "from_smiles('CCN')"
   ]
  },
  {
   "cell_type": "code",
   "execution_count": null,
   "id": "4fb01de0-7223-463a-8395-a7689a0df590",
   "metadata": {},
   "outputs": [],
   "source": []
  }
 ],
 "metadata": {
  "kernelspec": {
   "display_name": "Python 3 (ipykernel)",
   "language": "python",
   "name": "python3"
  },
  "language_info": {
   "codemirror_mode": {
    "name": "ipython",
    "version": 3
   },
   "file_extension": ".py",
   "mimetype": "text/x-python",
   "name": "python",
   "nbconvert_exporter": "python",
   "pygments_lexer": "ipython3",
   "version": "3.9.7"
  }
 },
 "nbformat": 4,
 "nbformat_minor": 5
}
